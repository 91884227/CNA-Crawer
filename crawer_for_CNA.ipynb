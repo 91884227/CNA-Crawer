{
 "cells": [
  {
   "cell_type": "markdown",
   "metadata": {},
   "source": [
    "# import tool"
   ]
  },
  {
   "cell_type": "code",
   "execution_count": 1,
   "metadata": {},
   "outputs": [],
   "source": [
    "import pandas as pd\n",
    "import requests\n",
    "from bs4 import BeautifulSoup\n",
    "from tqdm import tqdm\n",
    "from itertools import chain"
   ]
  },
  {
   "cell_type": "code",
   "execution_count": 2,
   "metadata": {},
   "outputs": [],
   "source": [
    "def get_all_url():\n",
    "    url = \"https://www.cna.com.tw/list/aall.aspx\"\n",
    "    my_headers =  {\"User-Agent\": \"Mozilla/5.0 (Windows NT 10.0; Win64; x64) AppleWebKit/537.36 (KHTML, like Gecko) Chrome/81.0.4044.122 Safari/537.36\"}\n",
    "    r = requests.get(url, headers = my_headers)\n",
    "    soup =  BeautifulSoup(r.text)\n",
    "    all_url = [i.get(\"href\") for i in soup.select(\".first-level\")]\n",
    "    all_url = [i for i in all_url if i.startswith(\"https://www.cna.com.tw/\")] # 初步篩選網址\n",
    "    return(all_url)"
   ]
  },
  {
   "cell_type": "code",
   "execution_count": 3,
   "metadata": {},
   "outputs": [],
   "source": [
    "def url_get_data(url_):\n",
    "    try:\n",
    "        my_headers =  {\"User-Agent\": \"Mozilla/5.0 (Windows NT 10.0; Win64; x64) AppleWebKit/537.36 (KHTML, like Gecko) Chrome/81.0.4044.122 Safari/537.36\"}\n",
    "        r = requests.get(url_, headers = my_headers)\n",
    "        soup =  BeautifulSoup(r.text) \n",
    "        #buf = [i.next.next.text for i in soup.select(\".listInfo\")]\n",
    "        buf = [i.next.text for i in soup.select(\".listInfo\")]\n",
    "        return(buf)\n",
    "    except:\n",
    "        print(\"error happand in %s\" % url_)"
   ]
  },
  {
   "cell_type": "code",
   "execution_count": 4,
   "metadata": {},
   "outputs": [],
   "source": [
    "def output_data(buf_):\n",
    "    df = pd.DataFrame(buf_)\n",
    "    df.columns = [\"title\"]\n",
    "    name = \"CNA_title.csv\"\n",
    "    df.to_csv(name, index = False, encoding= 'UTF-8')"
   ]
  },
  {
   "cell_type": "code",
   "execution_count": 7,
   "metadata": {
    "scrolled": true
   },
   "outputs": [
    {
     "name": "stderr",
     "output_type": "stream",
     "text": [
      "100%|██████████████████████████████████████████████████████████████████████████████████| 34/34 [00:05<00:00,  6.61it/s]"
     ]
    },
    {
     "name": "stdout",
     "output_type": "stream",
     "text": [
      "success to create file CNA_title.csv\n"
     ]
    },
    {
     "name": "stderr",
     "output_type": "stream",
     "text": [
      "\n"
     ]
    }
   ],
   "source": [
    "if __name__ == '__main__':\n",
    "    list_URL = get_all_url()\n",
    "    buf = [ url_get_data(i) for i in tqdm(list_URL)]\n",
    "    buf_1d = list(chain.from_iterable(buf))\n",
    "    try:\n",
    "        output_data(buf_1d)\n",
    "        print(\"success to create file CNA_title.csv\")\n",
    "    except:\n",
    "        print(\"fail to create file\")  "
   ]
  }
 ],
 "metadata": {
  "kernelspec": {
   "display_name": "Python 3",
   "language": "python",
   "name": "python3"
  },
  "language_info": {
   "codemirror_mode": {
    "name": "ipython",
    "version": 3
   },
   "file_extension": ".py",
   "mimetype": "text/x-python",
   "name": "python",
   "nbconvert_exporter": "python",
   "pygments_lexer": "ipython3",
   "version": "3.6.4"
  }
 },
 "nbformat": 4,
 "nbformat_minor": 2
}
